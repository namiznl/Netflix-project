{
 "cells": [
  {
   "cell_type": "code",
   "execution_count": 7,
   "id": "d9a67f89-1ed3-40bc-badb-db80bfee484a",
   "metadata": {},
   "outputs": [],
   "source": [
    "# Importing pandas and matplotlib\n",
    "import pandas as pd\n",
    "import matplotlib.pyplot as plt\n",
    "\n",
    "# Read in the Netflix CSV as a DataFrame\n",
    "netflix_df = pd.read_csv(\"netflix_data.csv\")\n"
   ]
  },
  {
   "cell_type": "code",
   "execution_count": 8,
   "id": "a2eda9dc-43aa-4531-9557-6307eccdc2cc",
   "metadata": {},
   "outputs": [],
   "source": [
    "pd.set_option('display.max_column', None)"
   ]
  },
  {
   "cell_type": "code",
   "execution_count": 9,
   "id": "540d7054-1165-4801-9ce3-b97288324add",
   "metadata": {},
   "outputs": [
    {
     "name": "stdout",
     "output_type": "stream",
     "text": [
      "  show_id     type  title           director  \\\n",
      "0      s2    Movie   7:19  Jorge Michel Grau   \n",
      "1      s3    Movie  23:59       Gilbert Chan   \n",
      "2      s4    Movie      9        Shane Acker   \n",
      "3      s5    Movie     21     Robert Luketic   \n",
      "4      s6  TV Show     46        Serdar Akar   \n",
      "\n",
      "                                                cast        country  \\\n",
      "0  Demián Bichir, Héctor Bonilla, Oscar Serrano, ...         Mexico   \n",
      "1  Tedd Chan, Stella Chung, Henley Hii, Lawrence ...      Singapore   \n",
      "2  Elijah Wood, John C. Reilly, Jennifer Connelly...  United States   \n",
      "3  Jim Sturgess, Kevin Spacey, Kate Bosworth, Aar...  United States   \n",
      "4  Erdal Beşikçioğlu, Yasemin Allen, Melis Birkan...         Turkey   \n",
      "\n",
      "          date_added  release_year  duration  \\\n",
      "0  December 23, 2016          2016        93   \n",
      "1  December 20, 2018          2011        78   \n",
      "2  November 16, 2017          2009        80   \n",
      "3    January 1, 2020          2008       123   \n",
      "4       July 1, 2017          2016         1   \n",
      "\n",
      "                                         description             genre  \n",
      "0  After a devastating earthquake hits Mexico Cit...            Dramas  \n",
      "1  When an army recruit is found dead, his fellow...     Horror Movies  \n",
      "2  In a postapocalyptic world, rag-doll robots hi...            Action  \n",
      "3  A brilliant group of students become card-coun...            Dramas  \n",
      "4  A genetics professor experiments with a treatm...  International TV  \n"
     ]
    }
   ],
   "source": [
    "print(netflix_df.head())"
   ]
  },
  {
   "cell_type": "code",
   "execution_count": 10,
   "id": "d400d6f3-78e7-47d0-b988-16f9fa7e3935",
   "metadata": {},
   "outputs": [
    {
     "name": "stdout",
     "output_type": "stream",
     "text": [
      "94\n"
     ]
    }
   ],
   "source": [
    "movies_1990 = netflix_df[(netflix_df['release_year'] >= 1990) & (netflix_df['release_year'] <= 1999)]\n",
    "\n",
    "duration = movies_1990['duration'].mode().iloc[0]\n",
    "\n",
    "print(duration)"
   ]
  },
  {
   "cell_type": "code",
   "execution_count": 11,
   "id": "a027af0c-3246-43a6-b673-362cd095357f",
   "metadata": {},
   "outputs": [
    {
     "name": "stdout",
     "output_type": "stream",
     "text": [
      "7\n"
     ]
    }
   ],
   "source": [
    "short_action_movie = netflix_df[(netflix_df['genre'] == 'Action') & (netflix_df['duration'] < 90)]\n",
    "\n",
    "in_1990 = short_action_movie[(short_action_movie['release_year'] >= 1990) & (short_action_movie['release_year'] <= 1999) ]\n",
    "short_movie_count = in_1990.shape[0]\n",
    "\n",
    "print(short_movie_count)"
   ]
  },
  {
   "cell_type": "code",
   "execution_count": null,
   "id": "396b85ce-e002-477b-ac94-05b02df15624",
   "metadata": {},
   "outputs": [],
   "source": []
  }
 ],
 "metadata": {
  "kernelspec": {
   "display_name": "Python 3 (ipykernel)",
   "language": "python",
   "name": "python3"
  },
  "language_info": {
   "codemirror_mode": {
    "name": "ipython",
    "version": 3
   },
   "file_extension": ".py",
   "mimetype": "text/x-python",
   "name": "python",
   "nbconvert_exporter": "python",
   "pygments_lexer": "ipython3",
   "version": "3.12.7"
  }
 },
 "nbformat": 4,
 "nbformat_minor": 5
}
